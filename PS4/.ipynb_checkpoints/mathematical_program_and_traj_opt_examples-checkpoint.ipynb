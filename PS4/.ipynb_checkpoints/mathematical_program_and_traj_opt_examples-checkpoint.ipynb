{
 "cells": [
  {
   "cell_type": "markdown",
   "metadata": {},
   "source": [
    "## How to use Mathematical Program, and use it to formulate optimizations for robots"
   ]
  },
  {
   "cell_type": "markdown",
   "metadata": {},
   "source": [
    "One area of tools offered in pydrake is the MathematicalProgram interface.  MathematicalProgram is a class that abstracts many different useful types of optimization solvers.  This makes it so from one interface, you can access many different solvers.  The MathematicalProgram component of Drake is comparable to JuMP, in the Julia ecosystem. To get a concise overview of which solvers are supported for which different types of optimization problems, check out [this chart](http://drake.mit.edu/doxygen_cxx/group__solvers.html).  \n",
    "\n",
    "As is the case with hot-off-the-presses code, there is not yet a plethora of documentation, but here we're going to try to provide you with enough sample code to help get you started. \n",
    "\n",
    "In addition to the code snippets below, these two tips are also very useful:\n",
    "\n",
    "- Once you construct a MathematicalProgram object, i.e. `mp = MathematicalProgram()`, the tab completion in your jupyter notebook can be very helpful.  \n",
    "\n",
    " --> For example, let's say you want to know if a MathematicalProgram can print how many decision variables currently exist.  Tab completing on `mp.` and scrolling through, you'll find `num_vars`.  Indeed `mp.num_vars()` will do the trick.\n",
    " \n",
    " --> Want to know which solver MP is currently using under the hood for a particular problem instance?\n",
    " \n",
    "```python\n",
    "mp.Solve() # must first solve the program (which forces a solver to be chosen)\n",
    "solver = mp.GetSolverId()\n",
    "solver.name() # name will tab complete after creating a solver object\n",
    "```\n",
    "- An additional resource for how to use MathematicalProgram is the tests written for it. There are a significant amount of tests for MathematicalProgram, written in C++.  See [here](https://github.com/RobotLocomotion/drake/blob/master/solvers/test/mathematical_program_test.cc) but also other tests in that folder.  Note however that not all C++ features have pydrake bindings -- for those familiar with pybind, the bindings for MathematicalProgram are generated [here](https://github.com/RobotLocomotion/drake/blob/master/bindings/pydrake/solvers/mathematicalprogram_py.cc), and are demonstrated in numerous tests [here](https://github.com/RobotLocomotion/drake/tree/master/bindings/pydrake/solvers/test). Obviously though the features  demonstrated below all have pydrake bindings.  There are sufficient features currently in pydrake to satisfiably complete the problem set."
   ]
  },
  {
   "cell_type": "markdown",
   "metadata": {},
   "source": [
    "### Okay, but how do I actually do an optimization problem?  \n",
    "\n",
    "How do we translate something written on the board as a linear program, and write it down in code?\n",
    "\n",
    "Here is a very simple example of an LP:\n",
    "\n",
    "\\begin{align*}\n",
    "        \\min_{x} \\ \\ \\ x \\\\\n",
    "        s.t. \\ \\ \\  & x >= 1 \\\\\n",
    "\\end{align*}\n",
    "\n",
    "And the corresponding Mathematical Program code is below."
   ]
  },
  {
   "cell_type": "code",
   "execution_count": 1,
   "metadata": {},
   "outputs": [],
   "source": [
    "from pydrake.all import MathematicalProgram\n",
    "import numpy as np\n",
    "import math"
   ]
  },
  {
   "cell_type": "code",
   "execution_count": 2,
   "metadata": {},
   "outputs": [
    {
     "name": "stdout",
     "output_type": "stream",
     "text": [
      "SolutionResult.kSolutionFound\n",
      "[ 1.]\n"
     ]
    }
   ],
   "source": [
    "mp = MathematicalProgram()\n",
    "x = mp.NewContinuousVariables(1, \"x\")\n",
    "mp.AddLinearCost(x[0]*1.0)\n",
    "mp.AddLinearConstraint(x[0] >= 1)\n",
    "print mp.Solve()\n",
    "print mp.GetSolution(x)"
   ]
  },
  {
   "cell_type": "markdown",
   "metadata": {},
   "source": [
    "Note that written down slightly incorrectly, you will not get the answer you were looking for.  What is wrong about the two examples below?"
   ]
  },
  {
   "cell_type": "code",
   "execution_count": null,
   "metadata": {},
   "outputs": [],
   "source": [
    "mp = MathematicalProgram()\n",
    "x = mp.NewContinuousVariables(1, \"x\")\n",
    "mp.AddLinearCost(x[0]*1.0)\n",
    "print mp.Solve()\n",
    "print mp.GetSolution(x)"
   ]
  },
  {
   "cell_type": "code",
   "execution_count": null,
   "metadata": {},
   "outputs": [],
   "source": [
    "mp = MathematicalProgram()\n",
    "x = mp.NewContinuousVariables(1, \"x\")\n",
    "mp.AddLinearCost(x[0]*1.0)\n",
    "mp.AddLinearConstraint(x[0] <= 1)\n",
    "mp.Solve()\n",
    "print mp.Solve()\n",
    "print mp.GetSolution(x)"
   ]
  },
  {
   "cell_type": "markdown",
   "metadata": {},
   "source": [
    "Here's a slightly more complicated example, this one solves a problem that may look familiar to you.\n",
    "\n",
    "This is just one example of how, even though Linear Programs can only handle linear objectives and constraints, you can use them to sample over arbitrarily complex functions, and the samples of those functions can still be just linear constraints / objectives."
   ]
  },
  {
   "cell_type": "code",
   "execution_count": null,
   "metadata": {},
   "outputs": [],
   "source": [
    "mp = MathematicalProgram()\n",
    "alpha = mp.NewContinuousVariables(1, \"alpha\")\n",
    "mp.AddLinearCost(alpha[0]*1.0)\n",
    "for xi in np.arange(-5*np.pi, 5*np.pi+np.pi/8, np.pi/8):\n",
    "    mp.AddLinearConstraint(alpha[0] - math.cos(xi)**2 + math.sin(xi) >= 0)\n",
    "    \n",
    "mp.Solve()\n",
    "print mp.GetSolution(alpha)"
   ]
  },
  {
   "cell_type": "markdown",
   "metadata": {},
   "source": [
    "Note the MathematicalProgram is formulated in terms of \"costs\", and will minimize the objective function's costs when calling `Solve()`.  How can we maximize functions? Just add a negative sign:"
   ]
  },
  {
   "cell_type": "code",
   "execution_count": null,
   "metadata": {},
   "outputs": [],
   "source": [
    "mp = MathematicalProgram()\n",
    "x = mp.NewContinuousVariables(1, \"x\")\n",
    "mp.AddLinearCost(-x[0]*1.0)\n",
    "mp.AddLinearConstraint(x[0] <= 4)\n",
    "mp.Solve()\n",
    "print mp.GetSolution(x)"
   ]
  },
  {
   "cell_type": "markdown",
   "metadata": {},
   "source": [
    "Now how about if we want to go outside the realm of Linear Programs?  What if we want to do a Quadratic Program?  Recall that the only difference between a quadratic program and a Linear Program is that QPs now allow a quadratic cost, but still only linear objectives."
   ]
  },
  {
   "cell_type": "code",
   "execution_count": null,
   "metadata": {},
   "outputs": [],
   "source": [
    "mp = MathematicalProgram()\n",
    "x = mp.NewContinuousVariables(1, \"x\")\n",
    "mp.AddQuadraticCost((x[0]-3)**2)\n",
    "mp.Solve()\n",
    "print mp.GetSolution(x)"
   ]
  },
  {
   "cell_type": "markdown",
   "metadata": {},
   "source": [
    "Note that as above, a QP can be well formulated even without any constraints.  (LPs will have unbounded objectives without constraints.)"
   ]
  },
  {
   "cell_type": "markdown",
   "metadata": {},
   "source": [
    "Note that there is no `QuadraticConstraint` in MathematicalProgram.  Why not?  (What class of problem is a QuadraticConstraint?)"
   ]
  },
  {
   "cell_type": "markdown",
   "metadata": {},
   "source": [
    "But actually although there is no specific function call for it, MathematicalProgram can generally handle a quadratic constraint, and many other different types of constraints, through `AddConstraint`, where inside the argument to the function is a symbolic formula of type `==`, `>=`, or `<=`.  This opens up MathematicalProgram to solve general nonlinear optimization problems."
   ]
  },
  {
   "cell_type": "code",
   "execution_count": null,
   "metadata": {},
   "outputs": [],
   "source": [
    "mp = MathematicalProgram()\n",
    "x = mp.NewContinuousVariables(2, \"x\")\n",
    "mp.AddConstraint((x**2).sum() == 1.)\n",
    "mp.AddLinearCost(x.sum())\n",
    "mp.Solve()\n",
    "print mp.GetSolution(x)"
   ]
  },
  {
   "cell_type": "markdown",
   "metadata": {},
   "source": [
    "Alternatively you can even use many numpy operations, including `dot`:"
   ]
  },
  {
   "cell_type": "code",
   "execution_count": null,
   "metadata": {},
   "outputs": [],
   "source": [
    "mp = MathematicalProgram()\n",
    "x = mp.NewContinuousVariables(2, \"x\")\n",
    "mp.AddConstraint(x.dot(x) == 1.)\n",
    "mp.AddLinearCost(x.sum())\n",
    "mp.Solve()\n",
    "print mp.GetSolution(x)"
   ]
  },
  {
   "cell_type": "markdown",
   "metadata": {},
   "source": [
    "The above type of constraint will be very useful for our trajectory optimizations, which are in general nonlinear for sufficiently complex problems."
   ]
  },
  {
   "cell_type": "markdown",
   "metadata": {},
   "source": [
    "Note below that for the Mixed-Integer class of problems, the two solvers supported by Drake (as you can see from the chart linked above) are both proprietary solvers and not shipped with the docker image.  You may want to delve into this class of problems for final projects, however, and we can help you get access to these solvers if needed.  Gurobi is very powerful and availble for free for academic use, although will not work easily in a docker image and so we'd suggest a native Drake installation."
   ]
  },
  {
   "cell_type": "code",
   "execution_count": null,
   "metadata": {},
   "outputs": [],
   "source": [
    "# This needs a commercial solver to work...\n",
    "# mp = MathematicalProgram()\n",
    "# x = mp.NewContinuousVariables(1, \"x\")\n",
    "# b = mp.NewBinaryVariables(1, \"b\")\n",
    "# mp.AddLinearConstraint(x[0] <= 1)\n",
    "# mp.Solve()\n",
    "# print mp.GetSolution(x)"
   ]
  },
  {
   "cell_type": "markdown",
   "metadata": {},
   "source": [
    "Note that you can print out useful prints at many steps of interacting with Mathematical Program, for example:"
   ]
  },
  {
   "cell_type": "code",
   "execution_count": null,
   "metadata": {},
   "outputs": [],
   "source": [
    "mp = MathematicalProgram()\n",
    "x = mp.NewContinuousVariables(2, \"x\")\n",
    "print type(x)\n",
    "print x"
   ]
  },
  {
   "cell_type": "code",
   "execution_count": null,
   "metadata": {},
   "outputs": [],
   "source": [
    "y = x**2\n",
    "print y"
   ]
  },
  {
   "cell_type": "markdown",
   "metadata": {},
   "source": [
    "# The simplest use of MathematicalProgram we could think of for a useful \"robot\" optimization  \n",
    "\n",
    "Let's imagine we have a ball that we want to shoot ballistically out of a cannon to a certain point in space.\n",
    "\n",
    "Our cannon is very sophisticated and let's us choose precisely the intial velocity of the ball, but once the ball has left the cannon, it's out of our control.\n",
    "\n",
    "We can set up a very simple sim below to simulate this ball."
   ]
  },
  {
   "cell_type": "code",
   "execution_count": null,
   "metadata": {},
   "outputs": [],
   "source": [
    "from numpy import sin, cos\n",
    "import numpy as np\n",
    "import matplotlib.pyplot as plt\n",
    "import scipy.integrate as integrate\n",
    "import matplotlib.animation as animation\n",
    "from matplotlib.patches import Circle\n",
    "%matplotlib inline\n",
    "\n",
    "G = 9.8  # gravity, in m/s^2\n",
    "\n",
    "def dynamics(state, t):\n",
    "    ball_position = state[0:2]\n",
    "    derivs = np.zeros_like(state)\n",
    "    derivs[0:2] = state[2:4]\n",
    "    derivs[2]  = 0\n",
    "    derivs[3]  = -G\n",
    "    \n",
    "    return derivs\n",
    "\n",
    "dt = 0.001\n",
    "time_array = np.arange(0.0, 1, dt)\n",
    "\n",
    "state_initial = np.asarray([0, 0, 2, 4])\n",
    "\n",
    "# integrate using scipy integrate which will do runge-kutta integration probably\n",
    "state_over_time = integrate.odeint(dynamics, state_initial, time_array)\n",
    "\n",
    "print state_over_time.shape\n",
    "\n",
    "ball_position_x = state_over_time[:,0]\n",
    "ball_position_y = state_over_time[:,1]\n",
    "\n",
    "fig, axes = plt.subplots(nrows=1,ncols=1)\n",
    "axes.plot(ball_position_x, ball_position_y)\n",
    "circ = Circle((ball_position_x[-1],ball_position_y[-1]), radius=0.1, facecolor='k', edgecolor='white', fill=True ,linewidth = 2.0, linestyle='solid')\n",
    "axes.add_patch(circ)\n",
    "circ = Circle((5,5), radius=0.1, facecolor='green', edgecolor='white', fill=True ,linewidth = 2.0, linestyle='solid')\n",
    "axes.add_patch(circ)\n",
    "axes.axis('equal')\n",
    "plt.show()"
   ]
  },
  {
   "cell_type": "markdown",
   "metadata": {},
   "source": [
    "If our goal is to choose the initial velocity so that we make it to the green dot at the top right, then this is a problem we can solve.\n",
    "\n",
    "This is actually a problem that can be pretty easily solved in closed form, but it's also pretty easy to throw the optimization hammer at the problem."
   ]
  },
  {
   "cell_type": "code",
   "execution_count": null,
   "metadata": {},
   "outputs": [],
   "source": [
    "from pydrake.all import MathematicalProgram\n",
    "mp = MathematicalProgram()\n",
    "\n",
    "velocity_initial = mp.NewContinuousVariables(2, \"velocity_initial\")\n",
    "state_initial = np.asarray([0, 0, velocity_initial[0], velocity_initial[1]])\n",
    "\n",
    "num_time_steps = len(time_array)\n",
    "states_over_time = np.asarray([state_initial])\n",
    "\n",
    "for i in range(num_time_steps):\n",
    "    # Here this just uses euler integration\n",
    "    state_next = states_over_time[-1,:] + dt*dynamics(states_over_time[-1,:],0)\n",
    "    states_over_time = np.vstack((states_over_time, state_next))\n",
    "\n",
    "# Calculate final position error\n",
    "position_goal = np.asarray([5,5])\n",
    "final_position_error = position_goal - states_over_time[-1,0:2]\n",
    "\n",
    "mp.AddQuadraticCost((final_position_error).dot(final_position_error))\n",
    "mp.Solve()\n",
    "print mp.GetSolution(velocity_initial)\n",
    "optimal_initial_veloctiy = mp.GetSolution(velocity_initial)"
   ]
  },
  {
   "cell_type": "code",
   "execution_count": null,
   "metadata": {},
   "outputs": [],
   "source": [
    "# Simulate given the initial velocity\n",
    "state = np.asarray([0, 0, optimal_initial_veloctiy[0], optimal_initial_veloctiy[1]])\n",
    "print state\n",
    "\n",
    "# We can check our euler integration back against the scipy integration\n",
    "state_over_time = integrate.odeint(dynamics, state, time_array)\n",
    "print state_over_time.shape\n",
    "\n",
    "ball_position_x = state_over_time[:,0]\n",
    "ball_position_y = state_over_time[:,1]\n",
    "\n",
    "fig, axes = plt.subplots(nrows=1,ncols=1)\n",
    "axes.plot(ball_position_x, ball_position_y)\n",
    "circ = Circle((ball_position_x[-1],ball_position_y[-1]), radius=0.1, facecolor='k', edgecolor='white', fill=True ,linewidth = 2.0, linestyle='solid')\n",
    "axes.add_patch(circ)\n",
    "circ = Circle((5,5), radius=0.1, facecolor='green', edgecolor='white', fill=True ,linewidth = 2.0, linestyle='solid')\n",
    "axes.add_patch(circ)\n",
    "axes.axis('equal')\n",
    "plt.show()"
   ]
  },
  {
   "cell_type": "markdown",
   "metadata": {},
   "source": [
    "In the first example optimization above, we used a quadratic cost on final position error.\n",
    "\n",
    "What if we just constrain the problem to exactly reach the position?  We can also, for example, add a quadratic cost on the total initial speed of the ball."
   ]
  },
  {
   "cell_type": "code",
   "execution_count": null,
   "metadata": {},
   "outputs": [],
   "source": [
    "from pydrake.all import MathematicalProgram\n",
    "mp = MathematicalProgram()\n",
    "\n",
    "velocity_initial = mp.NewContinuousVariables(2, \"velocity_initial\")\n",
    "state_initial = np.asarray([0, 0, velocity_initial[0], velocity_initial[1]])\n",
    "\n",
    "num_time_steps = len(time_array)\n",
    "states_over_time = np.asarray([state_initial])\n",
    "\n",
    "for i in range(num_time_steps):\n",
    "    state_next = states_over_time[-1,:] + dt*dynamics(states_over_time[-1,:],0)\n",
    "    states_over_time = np.vstack((states_over_time, state_next))\n",
    "\n",
    "# Calculate final position error\n",
    "position_goal = np.asarray([5,5])\n",
    "final_position_error = position_goal - states_over_time[-1,0:2]\n",
    "\n",
    "mp.AddQuadraticCost(1 * velocity_initial.dot(velocity_initial))\n",
    "print position_goal\n",
    "mp.AddLinearConstraint(states_over_time[-1,0] >= position_goal[0])\n",
    "mp.AddLinearConstraint(states_over_time[-1,0] <= position_goal[0])\n",
    "mp.AddLinearConstraint(states_over_time[-1,1] >= position_goal[1])\n",
    "mp.AddLinearConstraint(states_over_time[-1,1] <= position_goal[1])\n",
    "mp.Solve()\n",
    "print mp.GetSolution(velocity_initial)"
   ]
  },
  {
   "cell_type": "code",
   "execution_count": null,
   "metadata": {},
   "outputs": [],
   "source": [
    "# Simulate given the initial velocity\n",
    "state = np.asarray([0, 0, optimal_initial_veloctiy[0], optimal_initial_veloctiy[1]])\n",
    "print state\n",
    "\n",
    "# We can check our euler integration back against the scipy integration\n",
    "state_over_time = integrate.odeint(dynamics, state, time_array)\n",
    "print state_over_time.shape\n",
    "\n",
    "ball_position_x = state_over_time[:,0]\n",
    "ball_position_y = state_over_time[:,1]\n",
    "\n",
    "fig, axes = plt.subplots(nrows=1,ncols=1)\n",
    "axes.plot(ball_position_x, ball_position_y)\n",
    "circ = Circle((ball_position_x[-1],ball_position_y[-1]), radius=0.1, facecolor='k', edgecolor='white', fill=True ,linewidth = 2.0, linestyle='solid')\n",
    "axes.add_patch(circ)\n",
    "circ = Circle((5,5), radius=0.1, facecolor='green', edgecolor='white', fill=True ,linewidth = 2.0, linestyle='solid')\n",
    "axes.add_patch(circ)\n",
    "axes.axis('equal')\n",
    "plt.show()"
   ]
  },
  {
   "cell_type": "markdown",
   "metadata": {},
   "source": [
    "## Now what if we have a couple rocket boosters attached?\n",
    "\n",
    "The problem gets a little bit more interesting if we have a couple of rocket boosters attached to our ball.\n",
    "\n",
    "We can now ask this problem:\n",
    "\n",
    "  --> If for the first 100 time steps, we can use the rocket boosters on the ball to adjust its trajectory, then what can we do?"
   ]
  },
  {
   "cell_type": "code",
   "execution_count": null,
   "metadata": {},
   "outputs": [],
   "source": [
    "mp = MathematicalProgram()\n",
    "\n",
    "velocity_initial = mp.NewContinuousVariables(2, \"velocity_initial\")\n",
    "state_initial = np.asarray([0, 0, velocity_initial[0], velocity_initial[1]])\n",
    "\n",
    "num_time_steps = 1000\n",
    "states_over_time = np.asarray([state_initial])\n",
    "\n",
    "num_steps_with_boosters = 100\n",
    "\n",
    "k = 0\n",
    "u = mp.NewContinuousVariables(2, \"u_%d\" % k)\n",
    "u_over_time = u\n",
    "\n",
    "for k in range(1,num_steps_with_boosters):\n",
    "    u = mp.NewContinuousVariables(2, \"u_%d\" % k)\n",
    "    u_over_time = np.vstack((u_over_time, u))\n",
    "\n",
    "total_u = np.vstack((u_over_time,np.zeros((900,2))))\n",
    "    \n",
    "print \"Number of decision vars\", mp.num_vars()\n",
    "\n",
    "states_over_time = np.asarray([state_initial])\n",
    "def derivs_with_boosters(state, t):\n",
    "    index = int(t*num_time_steps)\n",
    "    u = total_u[index]\n",
    "    rocket_position = state[0:2]\n",
    "    derivs = np.zeros_like(state)\n",
    "    derivs[0:2] = state[2:4]\n",
    "    derivs[2]  = 0 + u[0]\n",
    "    derivs[3]  = -G + u[1]\n",
    "    \n",
    "    return derivs\n",
    "\n",
    "for i in range(num_time_steps):\n",
    "    state_next = states_over_time[-1,:] + .001*derivs_with_boosters(states_over_time[-1,:],time_array[i])\n",
    "    states_over_time = np.vstack((states_over_time, state_next))\n",
    "\n",
    "\n",
    "# Calculate final position error\n",
    "position_goal = np.asarray([5,5])\n",
    "final_position_error = position_goal - states_over_time[-1,0:2]\n",
    "\n",
    "mp.AddLinearConstraint(velocity_initial[0] <= 20)\n",
    "mp.AddLinearConstraint(velocity_initial[1] <= 2)\n",
    "\n",
    "mp.AddQuadraticCost(1 * velocity_initial.dot(velocity_initial))\n",
    "mp.AddQuadraticCost(1 * u_over_time[:,0].dot(u_over_time[:,0]))\n",
    "mp.AddQuadraticCost(1 * u_over_time[:,1].dot(u_over_time[:,1]))\n",
    "\n",
    "mp.AddLinearConstraint(states_over_time[-1,0] >= position_goal[0])\n",
    "mp.AddLinearConstraint(states_over_time[-1,0] <= position_goal[0])\n",
    "mp.AddLinearConstraint(states_over_time[-1,1] >= position_goal[1])\n",
    "mp.AddLinearConstraint(states_over_time[-1,1] <= position_goal[1])\n",
    "mp.Solve()\n",
    "\n",
    "print \"velocity_initial computed\", mp.GetSolution(velocity_initial)\n",
    "\n",
    "optimal_initial_veloctiy = mp.GetSolution(velocity_initial)\n",
    "u_over_time = mp.GetSolution(u_over_time)\n",
    "total_u = np.vstack((u_over_time,np.zeros((900,2))))"
   ]
  },
  {
   "cell_type": "code",
   "execution_count": null,
   "metadata": {},
   "outputs": [],
   "source": [
    "state_initial = np.asarray([0, 0, optimal_initial_veloctiy[0], optimal_initial_veloctiy[1]])\n",
    "\n",
    "states_over_time = np.asarray([state_initial])\n",
    "for i in range(num_time_steps):\n",
    "    state_next = states_over_time[-1,:] + .001*derivs_with_boosters(states_over_time[-1,:],time_array[i])\n",
    "    states_over_time = np.vstack((states_over_time, state_next))\n",
    "\n",
    "print states_over_time.shape\n",
    "    \n",
    "y = states_over_time\n",
    "\n",
    "rocket_position_x = y[:,0]\n",
    "rocket_position_y = y[:,1]\n",
    "\n",
    "fig, axes = plt.subplots(nrows=1,ncols=1)\n",
    "axes.plot(rocket_position_x, rocket_position_y)\n",
    "circ = Circle((rocket_position_x[-1],rocket_position_y[-1]), radius=0.1, facecolor='k', edgecolor='white', fill=True ,linewidth = 2.0, linestyle='solid')\n",
    "axes.add_patch(circ)\n",
    "circ = Circle((5,5), radius=0.1, facecolor='green', edgecolor='white', fill=True ,linewidth = 2.0, linestyle='solid')\n",
    "axes.add_patch(circ)\n",
    "axes.axis('equal')\n",
    "plt.show()"
   ]
  },
  {
   "cell_type": "markdown",
   "metadata": {},
   "source": [
    "# Good luck!\n",
    "\n",
    "Hopefully that was enough of an initial introduction to help get you started on the orbit transfer problem.\n",
    "\n",
    "Please ask questions on Piazza and/or come to office hours if you have any more questions."
   ]
  }
 ],
 "metadata": {
  "kernelspec": {
   "display_name": "Python 2",
   "language": "python",
   "name": "python2"
  },
  "language_info": {
   "codemirror_mode": {
    "name": "ipython",
    "version": 2
   },
   "file_extension": ".py",
   "mimetype": "text/x-python",
   "name": "python",
   "nbconvert_exporter": "python",
   "pygments_lexer": "ipython2",
   "version": "2.7.12"
  }
 },
 "nbformat": 4,
 "nbformat_minor": 2
}
