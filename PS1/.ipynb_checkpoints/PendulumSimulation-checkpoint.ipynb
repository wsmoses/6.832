{
 "cells": [
  {
   "cell_type": "code",
   "execution_count": 1,
   "metadata": {},
   "outputs": [],
   "source": [
    "# Run this cell first to import some modules\n",
    "# we'll need to run the examples below.\n",
    "%matplotlib inline\n",
    "import math\n",
    "import numpy as np\n",
    "import matplotlib.pyplot as plt"
   ]
  },
  {
   "cell_type": "code",
   "execution_count": 2,
   "metadata": {},
   "outputs": [
    {
     "name": "stderr",
     "output_type": "stream",
     "text": [
      "/usr/local/lib/python2.7/site-packages/numpy/core/getlimits.py:411: UserWarning: Signature ��̽ for <type 'numpy.float32'> does not match any known type: falling back to type probe function\n",
      "  machar = _get_machar(dtype)\n",
      "/usr/local/lib/python2.7/site-packages/numpy/core/machar.py:288: RuntimeWarning: overflow encountered in true_divide\n",
      "  xmax = xmax / (xmin*beta*beta*beta)\n"
     ]
    },
    {
     "ename": "ImportError",
     "evalue": "No module named underactuated",
     "output_type": "error",
     "traceback": [
      "\u001b[0;31m---------------------------------------------------------------------------\u001b[0m",
      "\u001b[0;31mImportError\u001b[0m                               Traceback (most recent call last)",
      "\u001b[0;32m<ipython-input-2-50776719b918>\u001b[0m in \u001b[0;36m<module>\u001b[0;34m()\u001b[0m\n\u001b[1;32m     15\u001b[0m \u001b[0;31m# As well as a visualizer to draw the path this special\u001b[0m\u001b[0;34m\u001b[0m\u001b[0;34m\u001b[0m\u001b[0m\n\u001b[1;32m     16\u001b[0m \u001b[0;31m# pendulum system takes.\u001b[0m\u001b[0;34m\u001b[0m\u001b[0;34m\u001b[0m\u001b[0m\n\u001b[0;32m---> 17\u001b[0;31m \u001b[0;32mfrom\u001b[0m \u001b[0mcustom_pendulum_visualizer\u001b[0m \u001b[0;32mimport\u001b[0m \u001b[0mDampedOscillatingPendulumVisualizer\u001b[0m\u001b[0;34m\u001b[0m\u001b[0m\n\u001b[0m\u001b[1;32m     18\u001b[0m \u001b[0;31m# (The visualizer produces a video which we render via HTML)\u001b[0m\u001b[0;34m\u001b[0m\u001b[0;34m\u001b[0m\u001b[0m\n\u001b[1;32m     19\u001b[0m \u001b[0;32mfrom\u001b[0m \u001b[0mIPython\u001b[0m\u001b[0;34m.\u001b[0m\u001b[0mdisplay\u001b[0m \u001b[0;32mimport\u001b[0m \u001b[0mHTML\u001b[0m\u001b[0;34m\u001b[0m\u001b[0m\n",
      "\u001b[0;32m/Users/wmoses/6.832/PS1/custom_pendulum_visualizer.py\u001b[0m in \u001b[0;36m<module>\u001b[0;34m()\u001b[0m\n\u001b[1;32m     13\u001b[0m \u001b[0;32mimport\u001b[0m \u001b[0mscipy\u001b[0m\u001b[0;34m.\u001b[0m\u001b[0minterpolate\u001b[0m\u001b[0;34m\u001b[0m\u001b[0m\n\u001b[1;32m     14\u001b[0m \u001b[0;34m\u001b[0m\u001b[0m\n\u001b[0;32m---> 15\u001b[0;31m \u001b[0;32mfrom\u001b[0m \u001b[0munderactuated\u001b[0m \u001b[0;32mimport\u001b[0m \u001b[0mPyPlotVisualizer\u001b[0m\u001b[0;34m\u001b[0m\u001b[0m\n\u001b[0m\u001b[1;32m     16\u001b[0m \u001b[0;34m\u001b[0m\u001b[0m\n\u001b[1;32m     17\u001b[0m \u001b[0;31m# Custom visualizer for a pendulum with a moving\u001b[0m\u001b[0;34m\u001b[0m\u001b[0;34m\u001b[0m\u001b[0m\n",
      "\u001b[0;31mImportError\u001b[0m: No module named underactuated"
     ]
    }
   ],
   "source": [
    "# This cell sets up a pendulum, runs a simulation, and\n",
    "# renders a video of its results. Be patient, as the simulation\n",
    "# can take a little while if the system dynamics are particularly\n",
    "# violent (e.g. the feedback rule is aggressive or not very stable).\n",
    "\n",
    "# The file custom_pendulum.py defines DampedOscillatingPendulumPlant,\n",
    "# which models the dynamics of a simple pendulum that may\n",
    "# be damped, and may have a base that is forced to oscillate.\n",
    "# It's an extension of the Pendulum plant from the underactuated\n",
    "# textbook.\n",
    "from custom_pendulum import DampedOscillatingPendulumPlant\n",
    "# We also implements some convenience functions for setting up\n",
    "# a controller and running a simulation.\n",
    "from custom_pendulum import PendulumController, RunPendulumSimulation\n",
    "# As well as a visualizer to draw the path this special\n",
    "# pendulum system takes.\n",
    "from custom_pendulum_visualizer import DampedOscillatingPendulumVisualizer\n",
    "# (The visualizer produces a video which we render via HTML)\n",
    "from IPython.display import HTML\n",
    "\n",
    "# Make a pendulum plant.\n",
    "m = 3.      # Mass\n",
    "l = 1.      # Length\n",
    "g = 10.     # Gravity\n",
    "b = 2.0     # Damping.\n",
    "C = 0       # Amplitude of base movement. Keep as 0 for no movement.\n",
    "w = 0       # Frequency of base movement. Keep as 0 for no movement.\n",
    "pendulum_plant = DampedOscillatingPendulumPlant(\n",
    "    m = m,\n",
    "    l = l,\n",
    "    g = g,\n",
    "    b = b,\n",
    "    C = C,\n",
    "    w = w)\n",
    "\n",
    "# And define a controller.\n",
    "def feedback_rule(t, theta, dtheta):\n",
    "    # CHANGE ME\n",
    "    u = 0\n",
    "    return u\n",
    "controller = PendulumController(feedback_rule)\n",
    "\n",
    "# Run a simulation from an initial condition x0,\n",
    "# for some number of seconds.\n",
    "logger = RunPendulumSimulation(pendulum_plant, controller, x0 = [1.0, 0.0], duration=20.)\n",
    "\n",
    "# Visualize the result as a video.\n",
    "vis = DampedOscillatingPendulumVisualizer()\n",
    "ani = vis.animate(logger, 60, repeat=True)\n",
    "plt.close(vis.fig)\n",
    "HTML(ani.to_html5_video())"
   ]
  },
  {
   "cell_type": "code",
   "execution_count": 3,
   "metadata": {},
   "outputs": [
    {
     "ename": "NameError",
     "evalue": "name 'logger' is not defined",
     "output_type": "error",
     "traceback": [
      "\u001b[0;31m---------------------------------------------------------------------------\u001b[0m",
      "\u001b[0;31mNameError\u001b[0m                                 Traceback (most recent call last)",
      "\u001b[0;32m<ipython-input-3-675fe5fb9fb9>\u001b[0m in \u001b[0;36m<module>\u001b[0;34m()\u001b[0m\n\u001b[1;32m      4\u001b[0m \u001b[0;32mfor\u001b[0m \u001b[0mi\u001b[0m \u001b[0;32min\u001b[0m \u001b[0mrange\u001b[0m\u001b[0;34m(\u001b[0m\u001b[0;36m3\u001b[0m\u001b[0;34m)\u001b[0m\u001b[0;34m:\u001b[0m\u001b[0;34m\u001b[0m\u001b[0m\n\u001b[1;32m      5\u001b[0m     \u001b[0;31m#plt.subplot(3, 1, i+1)\u001b[0m\u001b[0;34m\u001b[0m\u001b[0;34m\u001b[0m\u001b[0m\n\u001b[0;32m----> 6\u001b[0;31m     \u001b[0mplt\u001b[0m\u001b[0;34m.\u001b[0m\u001b[0mplot\u001b[0m\u001b[0;34m(\u001b[0m\u001b[0mlogger\u001b[0m\u001b[0;34m.\u001b[0m\u001b[0msample_times\u001b[0m\u001b[0;34m(\u001b[0m\u001b[0;34m)\u001b[0m\u001b[0;34m,\u001b[0m \u001b[0mlogger\u001b[0m\u001b[0;34m.\u001b[0m\u001b[0mdata\u001b[0m\u001b[0;34m(\u001b[0m\u001b[0;34m)\u001b[0m\u001b[0;34m[\u001b[0m\u001b[0mi\u001b[0m\u001b[0;34m,\u001b[0m \u001b[0;34m:\u001b[0m\u001b[0;34m]\u001b[0m\u001b[0;34m.\u001b[0m\u001b[0mtranspose\u001b[0m\u001b[0;34m(\u001b[0m\u001b[0;34m)\u001b[0m\u001b[0;34m)\u001b[0m\u001b[0;34m\u001b[0m\u001b[0m\n\u001b[0m\u001b[1;32m      7\u001b[0m     \u001b[0mplt\u001b[0m\u001b[0;34m.\u001b[0m\u001b[0mxlabel\u001b[0m\u001b[0;34m(\u001b[0m\u001b[0;34m't'\u001b[0m\u001b[0;34m)\u001b[0m\u001b[0;34m\u001b[0m\u001b[0m\n\u001b[1;32m      8\u001b[0m     \u001b[0mplt\u001b[0m\u001b[0;34m.\u001b[0m\u001b[0mylabel\u001b[0m\u001b[0;34m(\u001b[0m\u001b[0mfields\u001b[0m\u001b[0;34m[\u001b[0m\u001b[0mi\u001b[0m\u001b[0;34m]\u001b[0m\u001b[0;34m)\u001b[0m\u001b[0;34m\u001b[0m\u001b[0m\n",
      "\u001b[0;31mNameError\u001b[0m: name 'logger' is not defined"
     ]
    }
   ],
   "source": [
    "# Run this cell after running a simulation to plot traces\n",
    "# of the pendulum state across time.\n",
    "fields = [\"\\theta\", \"dtheta\", \"base position\"]\n",
    "for i in range(3):\n",
    "    #plt.subplot(3, 1, i+1)\n",
    "    plt.plot(logger.sample_times(), logger.data()[i, :].transpose())\n",
    "    plt.xlabel('t')\n",
    "    plt.ylabel(fields[i])\n",
    "    plt.grid(True)\n",
    "    plt.show()"
   ]
  },
  {
   "cell_type": "code",
   "execution_count": null,
   "metadata": {},
   "outputs": [],
   "source": []
  }
 ],
 "metadata": {
  "kernelspec": {
   "display_name": "Python 2",
   "language": "python",
   "name": "python2"
  },
  "language_info": {
   "codemirror_mode": {
    "name": "ipython",
    "version": 2
   },
   "file_extension": ".py",
   "mimetype": "text/x-python",
   "name": "python",
   "nbconvert_exporter": "python",
   "pygments_lexer": "ipython2",
   "version": "2.7.14"
  }
 },
 "nbformat": 4,
 "nbformat_minor": 2
}
